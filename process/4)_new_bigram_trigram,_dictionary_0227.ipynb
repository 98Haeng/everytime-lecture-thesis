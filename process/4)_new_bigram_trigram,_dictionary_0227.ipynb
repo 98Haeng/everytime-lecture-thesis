{
  "cells": [
    {
      "cell_type": "code",
      "execution_count": null,
      "id": "104e3311",
      "metadata": {
        "id": "104e3311"
      },
      "outputs": [],
      "source": [
        "import pandas as pd\n",
        "import numpy as np\n",
        "import re"
      ]
    },
    {
      "cell_type": "code",
      "execution_count": null,
      "id": "17d6396b",
      "metadata": {
        "id": "17d6396b",
        "outputId": "9c35d83b-5e5d-4441-c2a9-4c8c89c3ac75"
      },
      "outputs": [
        {
          "data": {
            "text/html": [
              "<div>\n",
              "<style scoped>\n",
              "    .dataframe tbody tr th:only-of-type {\n",
              "        vertical-align: middle;\n",
              "    }\n",
              "\n",
              "    .dataframe tbody tr th {\n",
              "        vertical-align: top;\n",
              "    }\n",
              "\n",
              "    .dataframe thead th {\n",
              "        text-align: right;\n",
              "    }\n",
              "</style>\n",
              "<table border=\"1\" class=\"dataframe\">\n",
              "  <thead>\n",
              "    <tr style=\"text-align: right;\">\n",
              "      <th></th>\n",
              "      <th>강의명</th>\n",
              "      <th>학점</th>\n",
              "      <th>강좌유형</th>\n",
              "      <th>패논패여부</th>\n",
              "      <th>이수학년</th>\n",
              "      <th>전공여부</th>\n",
              "      <th>학과</th>\n",
              "      <th>교수명</th>\n",
              "      <th>리뷰</th>\n",
              "      <th>작성시점</th>\n",
              "      <th>평가별점수</th>\n",
              "      <th>공감수</th>\n",
              "      <th>리뷰길이</th>\n",
              "      <th>리뷰_형태소</th>\n",
              "      <th>리뷰_형태소_list</th>\n",
              "      <th>리뷰_형태소_only_N</th>\n",
              "    </tr>\n",
              "  </thead>\n",
              "  <tbody>\n",
              "    <tr>\n",
              "      <th>0</th>\n",
              "      <td>기업가정신과창업 KCU</td>\n",
              "      <td>3</td>\n",
              "      <td>이론</td>\n",
              "      <td>x</td>\n",
              "      <td>전학년</td>\n",
              "      <td>교양</td>\n",
              "      <td>교양</td>\n",
              "      <td>김한수</td>\n",
              "      <td>첫 kcu 강의 퀄리티 떨어지지만 에이쁠 받기 쉬움</td>\n",
              "      <td>22년 2학기 수강자</td>\n",
              "      <td>4</td>\n",
              "      <td>0</td>\n",
              "      <td>28</td>\n",
              "      <td>[('첫', 'Noun'), ('kcu', 'Alpha'), ('강의', 'Noun...</td>\n",
              "      <td>['첫', 'kcu', '강의', '퀄리티', '떨어지지만', '에', '이쁠', ...</td>\n",
              "      <td>['첫', '강의', '퀄리티', '쉬움']</td>\n",
              "    </tr>\n",
              "    <tr>\n",
              "      <th>1</th>\n",
              "      <td>기업가정신과창업 KCU</td>\n",
              "      <td>3</td>\n",
              "      <td>이론</td>\n",
              "      <td>x</td>\n",
              "      <td>전학년</td>\n",
              "      <td>교양</td>\n",
              "      <td>교양</td>\n",
              "      <td>김한수</td>\n",
              "      <td>그저그래요 다른건 다 낫배드했는데 기말고사로는 서술형 1문제가 나왔어요 비중도 제일...</td>\n",
              "      <td>22년 2학기 수강자</td>\n",
              "      <td>4</td>\n",
              "      <td>0</td>\n",
              "      <td>126</td>\n",
              "      <td>[('그저', 'Adverb'), ('그래요', 'Adjective'), ('다른건...</td>\n",
              "      <td>['그저', '그래요', '다른건', '다', '낫', '배드', '했는데', '기...</td>\n",
              "      <td>['낫', '배드', '기말고사', '서술', '문제', '비중', '제일', '점...</td>\n",
              "    </tr>\n",
              "    <tr>\n",
              "      <th>2</th>\n",
              "      <td>기업가정신과창업 KCU</td>\n",
              "      <td>3</td>\n",
              "      <td>이론</td>\n",
              "      <td>x</td>\n",
              "      <td>전학년</td>\n",
              "      <td>교양</td>\n",
              "      <td>교양</td>\n",
              "      <td>김한수</td>\n",
              "      <td>기창 강의평 피드백 없고 강의안도 없지만 그래도 할만한 꿀강 퀴즈 2번 + 기말 시...</td>\n",
              "      <td>22년 2학기 수강자</td>\n",
              "      <td>4</td>\n",
              "      <td>0</td>\n",
              "      <td>226</td>\n",
              "      <td>[('기', 'Modifier'), ('창', 'Noun'), ('강의', 'Nou...</td>\n",
              "      <td>['기', '창', '강의', '평', '피드백', '없고', '강의', '안도',...</td>\n",
              "      <td>['창', '강의', '평', '피드백', '강의', '안도', '꿀강', '퀴즈'...</td>\n",
              "    </tr>\n",
              "  </tbody>\n",
              "</table>\n",
              "</div>"
            ],
            "text/plain": [
              "             강의명  학점 강좌유형 패논패여부 이수학년 전공여부  학과  교수명  \\\n",
              "0  기업가정신과창업 KCU    3   이론     x  전학년   교양  교양  김한수   \n",
              "1  기업가정신과창업 KCU    3   이론     x  전학년   교양  교양  김한수   \n",
              "2  기업가정신과창업 KCU    3   이론     x  전학년   교양  교양  김한수   \n",
              "\n",
              "                                                  리뷰         작성시점  평가별점수  공감수  \\\n",
              "0                       첫 kcu 강의 퀄리티 떨어지지만 에이쁠 받기 쉬움  22년 2학기 수강자      4    0   \n",
              "1  그저그래요 다른건 다 낫배드했는데 기말고사로는 서술형 1문제가 나왔어요 비중도 제일...  22년 2학기 수강자      4    0   \n",
              "2  기창 강의평 피드백 없고 강의안도 없지만 그래도 할만한 꿀강 퀴즈 2번 + 기말 시...  22년 2학기 수강자      4    0   \n",
              "\n",
              "   리뷰길이                                             리뷰_형태소  \\\n",
              "0    28  [('첫', 'Noun'), ('kcu', 'Alpha'), ('강의', 'Noun...   \n",
              "1   126  [('그저', 'Adverb'), ('그래요', 'Adjective'), ('다른건...   \n",
              "2   226  [('기', 'Modifier'), ('창', 'Noun'), ('강의', 'Nou...   \n",
              "\n",
              "                                         리뷰_형태소_list  \\\n",
              "0  ['첫', 'kcu', '강의', '퀄리티', '떨어지지만', '에', '이쁠', ...   \n",
              "1  ['그저', '그래요', '다른건', '다', '낫', '배드', '했는데', '기...   \n",
              "2  ['기', '창', '강의', '평', '피드백', '없고', '강의', '안도',...   \n",
              "\n",
              "                                       리뷰_형태소_only_N  \n",
              "0                           ['첫', '강의', '퀄리티', '쉬움']  \n",
              "1  ['낫', '배드', '기말고사', '서술', '문제', '비중', '제일', '점...  \n",
              "2  ['창', '강의', '평', '피드백', '강의', '안도', '꿀강', '퀴즈'...  "
            ]
          },
          "execution_count": 3,
          "metadata": {},
          "output_type": "execute_result"
        }
      ],
      "source": [
        "df = pd.read_csv('../data/crawling/everytime_review_data.csv')\n",
        "df.head(3)"
      ]
    },
    {
      "cell_type": "code",
      "execution_count": null,
      "id": "bd4d8a0b",
      "metadata": {
        "id": "bd4d8a0b",
        "outputId": "7543b580-5952-4d7a-dc4b-1596bea3803d"
      },
      "outputs": [
        {
          "data": {
            "text/html": [
              "<div>\n",
              "<style scoped>\n",
              "    .dataframe tbody tr th:only-of-type {\n",
              "        vertical-align: middle;\n",
              "    }\n",
              "\n",
              "    .dataframe tbody tr th {\n",
              "        vertical-align: top;\n",
              "    }\n",
              "\n",
              "    .dataframe thead th {\n",
              "        text-align: right;\n",
              "    }\n",
              "</style>\n",
              "<table border=\"1\" class=\"dataframe\">\n",
              "  <thead>\n",
              "    <tr style=\"text-align: right;\">\n",
              "      <th></th>\n",
              "      <th>리뷰</th>\n",
              "      <th>형태소</th>\n",
              "    </tr>\n",
              "  </thead>\n",
              "  <tbody>\n",
              "    <tr>\n",
              "      <th>0</th>\n",
              "      <td>첫 kcu 강의 퀄리티 떨어지지만 에이쁠 받기 쉬움</td>\n",
              "      <td>첫, kcu, 강의, 퀄리티, 떨어지지만, 에, 이쁠, 받기, 쉬움</td>\n",
              "    </tr>\n",
              "    <tr>\n",
              "      <th>1</th>\n",
              "      <td>그저그래요 다른건 다 낫배드했는데 기말고사로는 서술형 1문제가 나왔어요 비중도 제일...</td>\n",
              "      <td>그저, 그래요, 다른건, 다, 낫, 배드, 했는데, 기말고사, 로는, 서술, 형, ...</td>\n",
              "    </tr>\n",
              "    <tr>\n",
              "      <th>2</th>\n",
              "      <td>기창 강의평 피드백 없고 강의안도 없지만 그래도 할만한 꿀강 퀴즈 2번 + 기말 시...</td>\n",
              "      <td>기, 창, 강의, 평, 피드백, 없고, 강의, 안도, 없지만, 그래도, 할만, 한,...</td>\n",
              "    </tr>\n",
              "  </tbody>\n",
              "</table>\n",
              "</div>"
            ],
            "text/plain": [
              "                                                  리뷰  \\\n",
              "0                       첫 kcu 강의 퀄리티 떨어지지만 에이쁠 받기 쉬움   \n",
              "1  그저그래요 다른건 다 낫배드했는데 기말고사로는 서술형 1문제가 나왔어요 비중도 제일...   \n",
              "2  기창 강의평 피드백 없고 강의안도 없지만 그래도 할만한 꿀강 퀴즈 2번 + 기말 시...   \n",
              "\n",
              "                                                 형태소  \n",
              "0              첫, kcu, 강의, 퀄리티, 떨어지지만, 에, 이쁠, 받기, 쉬움  \n",
              "1  그저, 그래요, 다른건, 다, 낫, 배드, 했는데, 기말고사, 로는, 서술, 형, ...  \n",
              "2  기, 창, 강의, 평, 피드백, 없고, 강의, 안도, 없지만, 그래도, 할만, 한,...  "
            ]
          },
          "execution_count": 5,
          "metadata": {},
          "output_type": "execute_result"
        }
      ],
      "source": [
        "reviews = df[['리뷰','리뷰_형태소_list']].rename(columns={'리뷰_형태소_list': '형태소'})\n",
        "reviews['형태소'] = reviews['형태소'].apply(lambda x: re.sub(r\"\\'\", '', x[1:-1]))\n",
        "reviews.head(3)"
      ]
    },
    {
      "cell_type": "markdown",
      "id": "a2a97125",
      "metadata": {
        "id": "a2a97125"
      },
      "source": [
        "## new bigram, trigram"
      ]
    },
    {
      "cell_type": "code",
      "execution_count": null,
      "id": "f1e19515",
      "metadata": {
        "id": "f1e19515"
      },
      "outputs": [],
      "source": [
        "def NGram(N, DF, ColName, NewColName):\n",
        "    DF[NewColName] = ''\n",
        "    for idx in range(len(DF)):\n",
        "        ColValList = DF._get_value(idx, ColName).split(', ')\n",
        "        result_list = []\n",
        "        for val_idx in range(len(ColValList)-(N-1)):\n",
        "            temp_val = ''.join(ColValList[val_idx:val_idx+N])\n",
        "            result_list.append(temp_val)\n",
        "        DF._set_value(idx, NewColName, ', '.join(result_list))\n",
        "        \n",
        "NGram(2, reviews, '형태소', '형태소_bi')\n",
        "NGram(3, reviews, '형태소', '형태소_tri')"
      ]
    },
    {
      "cell_type": "code",
      "execution_count": null,
      "id": "41b09c58",
      "metadata": {
        "id": "41b09c58",
        "outputId": "3d9c0a08-b0b7-49cc-a91b-13321c5eae01"
      },
      "outputs": [
        {
          "data": {
            "text/html": [
              "<div>\n",
              "<style scoped>\n",
              "    .dataframe tbody tr th:only-of-type {\n",
              "        vertical-align: middle;\n",
              "    }\n",
              "\n",
              "    .dataframe tbody tr th {\n",
              "        vertical-align: top;\n",
              "    }\n",
              "\n",
              "    .dataframe thead th {\n",
              "        text-align: right;\n",
              "    }\n",
              "</style>\n",
              "<table border=\"1\" class=\"dataframe\">\n",
              "  <thead>\n",
              "    <tr style=\"text-align: right;\">\n",
              "      <th></th>\n",
              "      <th>리뷰</th>\n",
              "      <th>형태소</th>\n",
              "      <th>형태소_bi</th>\n",
              "      <th>형태소_tri</th>\n",
              "    </tr>\n",
              "  </thead>\n",
              "  <tbody>\n",
              "    <tr>\n",
              "      <th>0</th>\n",
              "      <td>첫 kcu 강의 퀄리티 떨어지지만 에이쁠 받기 쉬움</td>\n",
              "      <td>첫, kcu, 강의, 퀄리티, 떨어지지만, 에, 이쁠, 받기, 쉬움</td>\n",
              "      <td>첫kcu, kcu강의, 강의퀄리티, 퀄리티떨어지지만, 떨어지지만에, 에이쁠, 이쁠받...</td>\n",
              "      <td>첫kcu강의, kcu강의퀄리티, 강의퀄리티떨어지지만, 퀄리티떨어지지만에, 떨어지지만...</td>\n",
              "    </tr>\n",
              "    <tr>\n",
              "      <th>1</th>\n",
              "      <td>그저그래요 다른건 다 낫배드했는데 기말고사로는 서술형 1문제가 나왔어요 비중도 제일...</td>\n",
              "      <td>그저, 그래요, 다른건, 다, 낫, 배드, 했는데, 기말고사, 로는, 서술, 형, ...</td>\n",
              "      <td>그저그래요, 그래요다른건, 다른건다, 다낫, 낫배드, 배드했는데, 했는데기말고사, ...</td>\n",
              "      <td>그저그래요다른건, 그래요다른건다, 다른건다낫, 다낫배드, 낫배드했는데, 배드했는데기...</td>\n",
              "    </tr>\n",
              "  </tbody>\n",
              "</table>\n",
              "</div>"
            ],
            "text/plain": [
              "                                                  리뷰  \\\n",
              "0                       첫 kcu 강의 퀄리티 떨어지지만 에이쁠 받기 쉬움   \n",
              "1  그저그래요 다른건 다 낫배드했는데 기말고사로는 서술형 1문제가 나왔어요 비중도 제일...   \n",
              "\n",
              "                                                 형태소  \\\n",
              "0              첫, kcu, 강의, 퀄리티, 떨어지지만, 에, 이쁠, 받기, 쉬움   \n",
              "1  그저, 그래요, 다른건, 다, 낫, 배드, 했는데, 기말고사, 로는, 서술, 형, ...   \n",
              "\n",
              "                                              형태소_bi  \\\n",
              "0  첫kcu, kcu강의, 강의퀄리티, 퀄리티떨어지지만, 떨어지지만에, 에이쁠, 이쁠받...   \n",
              "1  그저그래요, 그래요다른건, 다른건다, 다낫, 낫배드, 배드했는데, 했는데기말고사, ...   \n",
              "\n",
              "                                             형태소_tri  \n",
              "0  첫kcu강의, kcu강의퀄리티, 강의퀄리티떨어지지만, 퀄리티떨어지지만에, 떨어지지만...  \n",
              "1  그저그래요다른건, 그래요다른건다, 다른건다낫, 다낫배드, 낫배드했는데, 배드했는데기...  "
            ]
          },
          "execution_count": 9,
          "metadata": {},
          "output_type": "execute_result"
        }
      ],
      "source": [
        "reviews.head(2)"
      ]
    },
    {
      "cell_type": "markdown",
      "id": "ca3b56e7",
      "metadata": {
        "id": "ca3b56e7"
      },
      "source": [
        "## 개수 분석"
      ]
    },
    {
      "cell_type": "code",
      "execution_count": null,
      "id": "3f4ece75",
      "metadata": {
        "id": "3f4ece75"
      },
      "outputs": [],
      "source": [
        "#경고제어\n",
        "import warnings\n",
        "warnings.simplefilter(\"ignore\") # 일치하는 경고 인쇄 x, simplefilter : 경고 필터 명세 목록에 간단한 항목을 삽입\n",
        "\n",
        "#텍스트 분석에 필요한 konlpy 불러오기 및 버전 확인\n",
        "import konlpy\n",
        "konlpy.__version__\n",
        "\n",
        "#KoNLPy의 OKT(형태소 분석기) 불러오기\n",
        "from konlpy.tag import Okt\n",
        "\n",
        "import nltk\n",
        "from konlpy.tag import Okt\n",
        "\n",
        "# 여기 수행시간 좀 걸림\n",
        "from collections import Counter\n",
        "import collections"
      ]
    },
    {
      "cell_type": "code",
      "execution_count": null,
      "id": "1c68f50e",
      "metadata": {
        "id": "1c68f50e"
      },
      "outputs": [],
      "source": [
        "def NGramCounts(DF, ColName):\n",
        "    result_list = []\n",
        "    for idx in range(len(DF)):\n",
        "        temp_val = DF._get_value(idx, ColName).split(', ')\n",
        "        result_list.append(temp_val)\n",
        "    result = Counter(sum(result_list, []))\n",
        "    result_df = pd.DataFrame.from_dict(result, orient='index').reset_index().rename(columns={'index': '단어', 0: '갯수'}).sort_values(by='갯수', ascending=False).reset_index(drop=True)\n",
        "    return result_df\n",
        "\n",
        "# 바이그램\n",
        "df_bi = NGramCounts(reviews, '형태소_bi')\n",
        "# 트라이그램\n",
        "df_tri = NGramCounts(reviews, '형태소_tri')"
      ]
    },
    {
      "cell_type": "code",
      "execution_count": null,
      "id": "b9f1f67b",
      "metadata": {
        "id": "b9f1f67b"
      },
      "outputs": [],
      "source": [
        "df_bi.to_csv('../data/바이그램단어.csv', encoding='utf-8-sig', index=False)\n",
        "df_tri.to_csv('../data/트라이그램단어.csv', encoding='utf-8-sig', index=False)"
      ]
    }
  ],
  "metadata": {
    "kernelspec": {
      "display_name": "py39",
      "language": "python",
      "name": "python3"
    },
    "language_info": {
      "codemirror_mode": {
        "name": "ipython",
        "version": 3
      },
      "file_extension": ".py",
      "mimetype": "text/x-python",
      "name": "python",
      "nbconvert_exporter": "python",
      "pygments_lexer": "ipython3",
      "version": "3.9.12"
    },
    "vscode": {
      "interpreter": {
        "hash": "9775c995cd90264ca5f9dd599d0113b435fc590a11ab424aadc1b0b305e035f9"
      }
    },
    "colab": {
      "provenance": []
    }
  },
  "nbformat": 4,
  "nbformat_minor": 5
}