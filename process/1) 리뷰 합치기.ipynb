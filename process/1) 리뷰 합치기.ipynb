{
 "cells": [
  {
   "cell_type": "code",
   "execution_count": 1,
   "id": "9d211c86",
   "metadata": {},
   "outputs": [],
   "source": [
    "import pandas as pd\n",
    "import numpy as np\n",
    "import matplotlib.pyplot as plt\n",
    "import os"
   ]
  },
  {
   "cell_type": "code",
   "execution_count": 5,
   "id": "b7d7aebf",
   "metadata": {},
   "outputs": [],
   "source": [
    "filepath = './리뷰들'\n",
    "filelist = os.listdir(filepath)"
   ]
  },
  {
   "cell_type": "code",
   "execution_count": 11,
   "id": "c54f16ee",
   "metadata": {},
   "outputs": [
    {
     "data": {
      "text/plain": [
       "10000"
      ]
     },
     "execution_count": 11,
     "metadata": {},
     "output_type": "execute_result"
    }
   ],
   "source": [
    "a = pd.read_csv(filepath + \"/\" + '인문_1_리뷰.csv')\n",
    "len(a)"
   ]
  },
  {
   "cell_type": "code",
   "execution_count": 9,
   "id": "c236fea1",
   "metadata": {},
   "outputs": [],
   "source": [
    "review_df = pd.DataFrame(columns = a.columns)\n",
    "for i in range(len(filelist)):\n",
    "    df = pd.read_csv(filepath + '/' + filelist[i])\n",
    "    review_df = pd.concat([review_df, df])"
   ]
  },
  {
   "cell_type": "code",
   "execution_count": 16,
   "id": "70e86999",
   "metadata": {},
   "outputs": [
    {
     "data": {
      "text/html": [
       "<div>\n",
       "<style scoped>\n",
       "    .dataframe tbody tr th:only-of-type {\n",
       "        vertical-align: middle;\n",
       "    }\n",
       "\n",
       "    .dataframe tbody tr th {\n",
       "        vertical-align: top;\n",
       "    }\n",
       "\n",
       "    .dataframe thead th {\n",
       "        text-align: right;\n",
       "    }\n",
       "</style>\n",
       "<table border=\"1\" class=\"dataframe\">\n",
       "  <thead>\n",
       "    <tr style=\"text-align: right;\">\n",
       "      <th></th>\n",
       "      <th>강의명</th>\n",
       "      <th>학점</th>\n",
       "      <th>강좌유형</th>\n",
       "      <th>패논패여부</th>\n",
       "      <th>이수학년</th>\n",
       "      <th>전공여부</th>\n",
       "      <th>학과</th>\n",
       "      <th>교수명</th>\n",
       "      <th>리뷰</th>\n",
       "      <th>작성시점</th>\n",
       "      <th>평가별점수</th>\n",
       "      <th>공감수</th>\n",
       "    </tr>\n",
       "  </thead>\n",
       "  <tbody>\n",
       "    <tr>\n",
       "      <th>0</th>\n",
       "      <td>기업가정신과창업(KCU)</td>\n",
       "      <td>3</td>\n",
       "      <td>이론</td>\n",
       "      <td>x</td>\n",
       "      <td>전학년</td>\n",
       "      <td>교양</td>\n",
       "      <td>교양</td>\n",
       "      <td>김한수</td>\n",
       "      <td>첫 kcu 강의 퀄리티 떨어지지만 에이쁠 받기 쉬움</td>\n",
       "      <td>22년 2학기 수강자</td>\n",
       "      <td>4</td>\n",
       "      <td>0</td>\n",
       "    </tr>\n",
       "    <tr>\n",
       "      <th>1</th>\n",
       "      <td>기업가정신과창업(KCU)</td>\n",
       "      <td>3</td>\n",
       "      <td>이론</td>\n",
       "      <td>x</td>\n",
       "      <td>전학년</td>\n",
       "      <td>교양</td>\n",
       "      <td>교양</td>\n",
       "      <td>김한수</td>\n",
       "      <td>그저그래요. 다른건 다 낫배드했는데 기말고사로는 서술형 1문제가 나왔어요. 비중도 ...</td>\n",
       "      <td>22년 2학기 수강자</td>\n",
       "      <td>4</td>\n",
       "      <td>0</td>\n",
       "    </tr>\n",
       "    <tr>\n",
       "      <th>2</th>\n",
       "      <td>기업가정신과창업(KCU)</td>\n",
       "      <td>3</td>\n",
       "      <td>이론</td>\n",
       "      <td>x</td>\n",
       "      <td>전학년</td>\n",
       "      <td>교양</td>\n",
       "      <td>교양</td>\n",
       "      <td>김한수</td>\n",
       "      <td>기창 강의평\\n\\n피드백 없고, 강의안도 없지만 그래도 할만한 꿀강...\\n퀴즈 2...</td>\n",
       "      <td>22년 2학기 수강자</td>\n",
       "      <td>4</td>\n",
       "      <td>0</td>\n",
       "    </tr>\n",
       "    <tr>\n",
       "      <th>3</th>\n",
       "      <td>기업가정신과창업(KCU)</td>\n",
       "      <td>3</td>\n",
       "      <td>이론</td>\n",
       "      <td>x</td>\n",
       "      <td>전학년</td>\n",
       "      <td>교양</td>\n",
       "      <td>교양</td>\n",
       "      <td>김한수</td>\n",
       "      <td>과제 하나도 없고 출석 퀴즈2번 기말1번만 하면됨\\n퀴즈는 인터넷 서치해야하고 강의...</td>\n",
       "      <td>22년 2학기 수강자</td>\n",
       "      <td>3</td>\n",
       "      <td>0</td>\n",
       "    </tr>\n",
       "    <tr>\n",
       "      <th>4</th>\n",
       "      <td>기업가정신과창업(KCU)</td>\n",
       "      <td>3</td>\n",
       "      <td>이론</td>\n",
       "      <td>x</td>\n",
       "      <td>전학년</td>\n",
       "      <td>교양</td>\n",
       "      <td>교양</td>\n",
       "      <td>김한수</td>\n",
       "      <td>KCU 5과목 정도 수강했는데 그중에 제일 별로..\\n\\n퀴즈2번, 기말고사1번\\n...</td>\n",
       "      <td>22년 2학기 수강자</td>\n",
       "      <td>3</td>\n",
       "      <td>0</td>\n",
       "    </tr>\n",
       "  </tbody>\n",
       "</table>\n",
       "</div>"
      ],
      "text/plain": [
       "             강의명 학점 강좌유형 패논패여부 이수학년 전공여부  학과  교수명  \\\n",
       "0  기업가정신과창업(KCU)  3   이론     x  전학년   교양  교양  김한수   \n",
       "1  기업가정신과창업(KCU)  3   이론     x  전학년   교양  교양  김한수   \n",
       "2  기업가정신과창업(KCU)  3   이론     x  전학년   교양  교양  김한수   \n",
       "3  기업가정신과창업(KCU)  3   이론     x  전학년   교양  교양  김한수   \n",
       "4  기업가정신과창업(KCU)  3   이론     x  전학년   교양  교양  김한수   \n",
       "\n",
       "                                                  리뷰         작성시점 평가별점수 공감수  \n",
       "0                       첫 kcu 강의 퀄리티 떨어지지만 에이쁠 받기 쉬움  22년 2학기 수강자     4   0  \n",
       "1  그저그래요. 다른건 다 낫배드했는데 기말고사로는 서술형 1문제가 나왔어요. 비중도 ...  22년 2학기 수강자     4   0  \n",
       "2  기창 강의평\\n\\n피드백 없고, 강의안도 없지만 그래도 할만한 꿀강...\\n퀴즈 2...  22년 2학기 수강자     4   0  \n",
       "3  과제 하나도 없고 출석 퀴즈2번 기말1번만 하면됨\\n퀴즈는 인터넷 서치해야하고 강의...  22년 2학기 수강자     3   0  \n",
       "4  KCU 5과목 정도 수강했는데 그중에 제일 별로..\\n\\n퀴즈2번, 기말고사1번\\n...  22년 2학기 수강자     3   0  "
      ]
     },
     "execution_count": 16,
     "metadata": {},
     "output_type": "execute_result"
    }
   ],
   "source": [
    "review_df.head()"
   ]
  },
  {
   "cell_type": "code",
   "execution_count": 17,
   "id": "34dc9344",
   "metadata": {},
   "outputs": [
    {
     "data": {
      "text/plain": [
       "51792"
      ]
     },
     "execution_count": 17,
     "metadata": {},
     "output_type": "execute_result"
    }
   ],
   "source": [
    "# 중복 제거 전 review_df 길이\n",
    "len(review_df)"
   ]
  },
  {
   "cell_type": "code",
   "execution_count": 20,
   "id": "877bd89e",
   "metadata": {},
   "outputs": [
    {
     "data": {
      "text/plain": [
       "40124"
      ]
     },
     "execution_count": 20,
     "metadata": {},
     "output_type": "execute_result"
    }
   ],
   "source": [
    "# 중복 제거 후 길이\n",
    "review_df = review_df.drop_duplicates(subset=['리뷰'])\n",
    "len(review_df)"
   ]
  },
  {
   "cell_type": "markdown",
   "id": "309236c1",
   "metadata": {},
   "source": [
    "- 모든 리뷰들이 중복되지 않은 것을 확인할 수 있음."
   ]
  },
  {
   "cell_type": "code",
   "execution_count": 19,
   "id": "09943991",
   "metadata": {},
   "outputs": [],
   "source": [
    "review_df.to_csv('합친리뷰.csv',index=False, encoding='utf-8-sig')"
   ]
  },
  {
   "cell_type": "code",
   "execution_count": null,
   "id": "d29f523c",
   "metadata": {},
   "outputs": [],
   "source": []
  }
 ],
 "metadata": {
  "kernelspec": {
   "display_name": "Python 3 (ipykernel)",
   "language": "python",
   "name": "python3"
  },
  "language_info": {
   "codemirror_mode": {
    "name": "ipython",
    "version": 3
   },
   "file_extension": ".py",
   "mimetype": "text/x-python",
   "name": "python",
   "nbconvert_exporter": "python",
   "pygments_lexer": "ipython3",
   "version": "3.8.5"
  }
 },
 "nbformat": 4,
 "nbformat_minor": 5
}
